{
 "cells": [
  {
   "cell_type": "code",
   "execution_count": 1,
   "id": "15364597-9985-4fab-b2f7-6d1e25becba1",
   "metadata": {},
   "outputs": [],
   "source": [
    "import torch"
   ]
  },
  {
   "cell_type": "code",
   "execution_count": 41,
   "id": "a13156c3-9b6f-4375-8f0c-768d64451ad2",
   "metadata": {},
   "outputs": [
    {
     "data": {
      "text/plain": [
       "tensor([[ 0.,  1.,  2.,  3.],\n",
       "        [ 4.,  5.,  6.,  7.],\n",
       "        [ 8.,  9., 10., 11.]])"
      ]
     },
     "execution_count": 41,
     "metadata": {},
     "output_type": "execute_result"
    }
   ],
   "source": [
    "A = torch.arange(12.0).reshape(3, 4)\n",
    "A"
   ]
  },
  {
   "cell_type": "code",
   "execution_count": 42,
   "id": "2f728fb5-99a1-4067-a5b9-fcb1ffe59c23",
   "metadata": {},
   "outputs": [
    {
     "data": {
      "text/plain": [
       "tensor([[ 0.,  1.,  2.,  3.,  4.,  5.],\n",
       "        [ 6.,  7.,  8.,  9., 10., 11.]])"
      ]
     },
     "execution_count": 42,
     "metadata": {},
     "output_type": "execute_result"
    }
   ],
   "source": [
    "torch.reshape(input = A, shape = (2, -1))"
   ]
  },
  {
   "cell_type": "code",
   "execution_count": 43,
   "id": "5585cc44-0b0d-4f00-ac33-35960b266483",
   "metadata": {},
   "outputs": [
    {
     "data": {
      "text/plain": [
       "tensor([[ 0.,  1.],\n",
       "        [ 2.,  3.],\n",
       "        [ 4.,  5.],\n",
       "        [ 6.,  7.],\n",
       "        [ 8.,  9.],\n",
       "        [10., 11.]])"
      ]
     },
     "execution_count": 43,
     "metadata": {},
     "output_type": "execute_result"
    }
   ],
   "source": [
    "A.resize_(6, 2)"
   ]
  },
  {
   "cell_type": "code",
   "execution_count": 44,
   "id": "5c7c745d-ae1c-44df-b223-898688a221a3",
   "metadata": {},
   "outputs": [
    {
     "data": {
      "text/plain": [
       "tensor([[10., 11., 12.],\n",
       "        [13., 14., 15.],\n",
       "        [16., 17., 18.]])"
      ]
     },
     "execution_count": 44,
     "metadata": {},
     "output_type": "execute_result"
    }
   ],
   "source": [
    "B = torch.arange(10.0, 19.0).reshape(3, 3)\n",
    "B"
   ]
  },
  {
   "cell_type": "code",
   "execution_count": 45,
   "id": "44a6e15a-0249-4249-811f-bbae22b79e8a",
   "metadata": {},
   "outputs": [
    {
     "data": {
      "text/plain": [
       "tensor([[0., 1., 2.],\n",
       "        [3., 4., 5.],\n",
       "        [6., 7., 8.]])"
      ]
     },
     "execution_count": 45,
     "metadata": {},
     "output_type": "execute_result"
    }
   ],
   "source": [
    "A.resize_as_(B)"
   ]
  },
  {
   "cell_type": "code",
   "execution_count": 46,
   "id": "4fe0806b-6c98-4013-8915-8fbc93d24f35",
   "metadata": {},
   "outputs": [
    {
     "name": "stdout",
     "output_type": "stream",
     "text": [
      "tensor([[[ 0.,  1.,  2.,  3.,  4.,  5.],\n",
      "         [ 6.,  7.,  8.,  9., 10., 11.]]])\n"
     ]
    },
    {
     "data": {
      "text/plain": [
       "torch.Size([1, 2, 6])"
      ]
     },
     "execution_count": 46,
     "metadata": {},
     "output_type": "execute_result"
    }
   ],
   "source": [
    "# dim是在指定维度处增加或减少维度\n",
    "A = torch.arange(12.0).reshape(2, 6)\n",
    "B = torch.unsqueeze(A, dim = 0)\n",
    "print(B)\n",
    "B.shape"
   ]
  },
  {
   "cell_type": "code",
   "execution_count": 47,
   "id": "bc6883a7-9f7b-45c5-a12e-d82b54547e29",
   "metadata": {},
   "outputs": [
    {
     "name": "stdout",
     "output_type": "stream",
     "text": [
      "tensor([[[[ 0.],\n",
      "          [ 1.],\n",
      "          [ 2.],\n",
      "          [ 3.],\n",
      "          [ 4.],\n",
      "          [ 5.]],\n",
      "\n",
      "         [[ 6.],\n",
      "          [ 7.],\n",
      "          [ 8.],\n",
      "          [ 9.],\n",
      "          [10.],\n",
      "          [11.]]]])\n",
      "torch.Size([1, 2, 6, 1])\n"
     ]
    }
   ],
   "source": [
    "C = B.unsqueeze(dim = 3)\n",
    "print(C)\n",
    "print(C.shape)"
   ]
  },
  {
   "cell_type": "code",
   "execution_count": 48,
   "id": "c3cfb7a2-983e-4301-9cd9-8ed517aadeae",
   "metadata": {},
   "outputs": [
    {
     "name": "stdout",
     "output_type": "stream",
     "text": [
      "tensor([[ 0.,  1.,  2.,  3.,  4.,  5.],\n",
      "        [ 6.,  7.,  8.,  9., 10., 11.]])\n",
      "torch.Size([2, 6])\n"
     ]
    }
   ],
   "source": [
    "# squeeze()可以移除指定的或者所有维度大小为 1 的维度\n",
    "D = torch.squeeze(C)\n",
    "print(D)\n",
    "print(D.shape)"
   ]
  },
  {
   "cell_type": "code",
   "execution_count": 49,
   "id": "d03996b8-8a87-441d-a59a-84515e3b481d",
   "metadata": {},
   "outputs": [
    {
     "name": "stdout",
     "output_type": "stream",
     "text": [
      "tensor([[[ 0.],\n",
      "         [ 1.],\n",
      "         [ 2.],\n",
      "         [ 3.],\n",
      "         [ 4.],\n",
      "         [ 5.]],\n",
      "\n",
      "        [[ 6.],\n",
      "         [ 7.],\n",
      "         [ 8.],\n",
      "         [ 9.],\n",
      "         [10.],\n",
      "         [11.]]])\n",
      "torch.Size([2, 6, 1])\n"
     ]
    }
   ],
   "source": [
    "E = torch.squeeze(C, dim = 0)\n",
    "print(E)\n",
    "print(E.shape)"
   ]
  },
  {
   "cell_type": "code",
   "execution_count": 50,
   "id": "a2cc7e7b-7db2-41da-bf0c-22e7249cb3f3",
   "metadata": {},
   "outputs": [
    {
     "data": {
      "text/plain": [
       "tensor([[0, 1, 2],\n",
       "        [0, 1, 2],\n",
       "        [0, 1, 2]])"
      ]
     },
     "execution_count": 50,
     "metadata": {},
     "output_type": "execute_result"
    }
   ],
   "source": [
    "# .expand()拓展维度\n",
    "A = torch.arange(3)\n",
    "B = A.expand(3, -1)\n",
    "B"
   ]
  },
  {
   "cell_type": "code",
   "execution_count": 51,
   "id": "ab8f650a-8af4-40b1-9eec-6f07eab7060d",
   "metadata": {},
   "outputs": [
    {
     "data": {
      "text/plain": [
       "tensor([[0, 1, 2],\n",
       "        [0, 1, 2]])"
      ]
     },
     "execution_count": 51,
     "metadata": {},
     "output_type": "execute_result"
    }
   ],
   "source": [
    "C = torch.arange(6).reshape(2, 3)\n",
    "B = A.expand_as(C)\n",
    "B"
   ]
  },
  {
   "cell_type": "code",
   "execution_count": 52,
   "id": "29178e58-08b7-4479-972a-63ea8ae9e27d",
   "metadata": {},
   "outputs": [
    {
     "name": "stdout",
     "output_type": "stream",
     "text": [
      "tensor([[[0, 1, 2, 0, 1, 2],\n",
      "         [0, 1, 2, 0, 1, 2],\n",
      "         [0, 1, 2, 0, 1, 2],\n",
      "         [0, 1, 2, 0, 1, 2]]])\n",
      "torch.Size([1, 4, 6])\n",
      "tensor([[[0, 1, 2],\n",
      "         [0, 1, 2],\n",
      "         [0, 1, 2],\n",
      "         [0, 1, 2]],\n",
      "\n",
      "        [[0, 1, 2],\n",
      "         [0, 1, 2],\n",
      "         [0, 1, 2],\n",
      "         [0, 1, 2]]])\n",
      "torch.Size([2, 4, 3])\n"
     ]
    }
   ],
   "source": [
    "# .repeat()重复填充\n",
    "D = B.repeat(1, 2, 2)\n",
    "E = B.repeat(2, 2, 1)\n",
    "print(D)\n",
    "print(D.shape)\n",
    "print(E)\n",
    "print(E.shape)"
   ]
  },
  {
   "cell_type": "code",
   "execution_count": 53,
   "id": "ff87a1a0-0b83-439d-9f14-dbce049d84e6",
   "metadata": {},
   "outputs": [
    {
     "data": {
      "text/plain": [
       "tensor([[[ 0,  1,  2,  3],\n",
       "         [ 4,  5,  6,  7],\n",
       "         [ 8,  9, 10, 11]]])"
      ]
     },
     "execution_count": 53,
     "metadata": {},
     "output_type": "execute_result"
    }
   ],
   "source": [
    "# 切片索引获取张量元素\n",
    "A = torch.arange(12).reshape(1, 3, 4)\n",
    "A"
   ]
  },
  {
   "cell_type": "code",
   "execution_count": 61,
   "id": "93d96808-c9b5-4dc5-9900-230b37971628",
   "metadata": {},
   "outputs": [
    {
     "data": {
      "text/plain": [
       "tensor([[ 0,  1,  2,  3],\n",
       "        [ 4,  5,  6,  7],\n",
       "        [ 8,  9, 10, 11]])"
      ]
     },
     "execution_count": 61,
     "metadata": {},
     "output_type": "execute_result"
    }
   ],
   "source": [
    "# 获取第 0 页， 将第一维的 0 号切片取出, 未指定索引的维默认保留\n",
    "A[0]"
   ]
  },
  {
   "cell_type": "code",
   "execution_count": 66,
   "id": "061aae0f-03fc-4310-b5a6-14504ee72e25",
   "metadata": {},
   "outputs": [
    {
     "data": {
      "text/plain": [
       "tensor([0, 1, 2, 3])"
      ]
     },
     "execution_count": 66,
     "metadata": {},
     "output_type": "execute_result"
    }
   ],
   "source": [
    "# 获取第 0 行， 将第 0 页第 0 行取出\n",
    "A[0, 0, :]"
   ]
  },
  {
   "cell_type": "code",
   "execution_count": 67,
   "id": "39ed693c-e835-450e-b0d8-08b17bbafb48",
   "metadata": {},
   "outputs": [
    {
     "data": {
      "text/plain": [
       "tensor([0, 4, 8])"
      ]
     },
     "execution_count": 67,
     "metadata": {},
     "output_type": "execute_result"
    }
   ],
   "source": [
    "# 获取第 0 列， 将第 0 页第 0 列取出\n",
    "A[0, :, 0]"
   ]
  },
  {
   "cell_type": "code",
   "execution_count": 71,
   "id": "ef825907-d986-41f6-8ebf-91992cc83d99",
   "metadata": {},
   "outputs": [
    {
     "data": {
      "text/plain": [
       "tensor([[ 1,  2],\n",
       "        [ 5,  6],\n",
       "        [ 9, 10]])"
      ]
     },
     "execution_count": 71,
     "metadata": {},
     "output_type": "execute_result"
    }
   ],
   "source": [
    "# 获取第 0 页， 第 1 ~ 2 列元素, 1:3 为左闭右开\n",
    "A[0, :, 1:3]"
   ]
  },
  {
   "cell_type": "code",
   "execution_count": 74,
   "id": "2624281d-306a-4eb7-a7fb-7e688e690252",
   "metadata": {},
   "outputs": [
    {
     "data": {
      "text/plain": [
       "tensor([ 8,  9, 10])"
      ]
     },
     "execution_count": 74,
     "metadata": {},
     "output_type": "execute_result"
    }
   ],
   "source": [
    "# 第 0 页，第(3 - 1)行， （4 - 4）到（4 - 1）列\n",
    "A[0, -1, -4:-1]"
   ]
  },
  {
   "cell_type": "code",
   "execution_count": 75,
   "id": "02855371-fb74-41d9-804f-9cb675095c5e",
   "metadata": {},
   "outputs": [],
   "source": [
    "# 条件筛选"
   ]
  },
  {
   "cell_type": "code",
   "execution_count": 77,
   "id": "3468e382-47ae-4189-8b0e-5ebc0aa9272f",
   "metadata": {},
   "outputs": [
    {
     "data": {
      "text/plain": [
       "tensor([[[  0,  -1,  -2,  -3],\n",
       "         [ -4,  -5,  -6,  -7],\n",
       "         [ -8,  -9, -10, -11]]])"
      ]
     },
     "execution_count": 77,
     "metadata": {},
     "output_type": "execute_result"
    }
   ],
   "source": [
    "B = -A\n",
    "B"
   ]
  },
  {
   "cell_type": "code",
   "execution_count": 81,
   "id": "cb378fdd-d36f-43d8-a1a9-d39efc91dcbb",
   "metadata": {},
   "outputs": [
    {
     "data": {
      "text/plain": [
       "tensor([[[ 0, -1, -2, -3],\n",
       "         [-4, -5,  6,  7],\n",
       "         [ 8,  9, 10, 11]]])"
      ]
     },
     "execution_count": 81,
     "metadata": {},
     "output_type": "execute_result"
    }
   ],
   "source": [
    "# 类似于三目运算符(condition)?(x):(y)\n",
    "torch.where(A > 5, A, B)"
   ]
  },
  {
   "cell_type": "code",
   "execution_count": 82,
   "id": "bb98a267-7783-4664-bf00-9ed29a5caa8b",
   "metadata": {},
   "outputs": [
    {
     "data": {
      "text/plain": [
       "tensor([ 6,  7,  8,  9, 10, 11])"
      ]
     },
     "execution_count": 82,
     "metadata": {},
     "output_type": "execute_result"
    }
   ],
   "source": [
    "A[A > 5]"
   ]
  },
  {
   "cell_type": "code",
   "execution_count": 83,
   "id": "e2973b0c-de6b-4d9d-93fc-5a03c45a3d81",
   "metadata": {},
   "outputs": [
    {
     "data": {
      "text/plain": [
       "tensor([[[ 0,  0,  0,  0],\n",
       "         [ 4,  5,  0,  0],\n",
       "         [ 8,  9, 10,  0]]])"
      ]
     },
     "execution_count": 83,
     "metadata": {},
     "output_type": "execute_result"
    }
   ],
   "source": [
    "# 获取张量下，上三角元素\n",
    "torch.tril(A, diagonal=0,)"
   ]
  },
  {
   "cell_type": "code",
   "execution_count": 84,
   "id": "84a07b84-284b-479c-ac40-5219a5aa9589",
   "metadata": {},
   "outputs": [
    {
     "data": {
      "text/plain": [
       "tensor([[[ 0,  1,  2,  3],\n",
       "         [ 0,  5,  6,  7],\n",
       "         [ 0,  0, 10, 11]]])"
      ]
     },
     "execution_count": 84,
     "metadata": {},
     "output_type": "execute_result"
    }
   ],
   "source": [
    "torch.triu(A, diagonal=0,)"
   ]
  },
  {
   "cell_type": "code",
   "execution_count": 91,
   "id": "02906cbd-d4a2-4b13-994c-76106e9ed535",
   "metadata": {},
   "outputs": [
    {
     "data": {
      "text/plain": [
       "tensor([[[ 0,  1,  0,  0],\n",
       "         [ 4,  5,  6,  0],\n",
       "         [ 8,  9, 10, 11]]])"
      ]
     },
     "execution_count": 91,
     "metadata": {},
     "output_type": "execute_result"
    }
   ],
   "source": [
    "# 对角线元素相对偏移\n",
    "torch.tril(A, diagonal=1,)"
   ]
  },
  {
   "cell_type": "code",
   "execution_count": 92,
   "id": "86e8f496-3de3-4b80-8bad-c97a44ff5438",
   "metadata": {},
   "outputs": [
    {
     "data": {
      "text/plain": [
       "tensor([[[ 0,  1,  2,  3],\n",
       "         [ 0,  0,  6,  7],\n",
       "         [ 0,  0,  0, 11]]])"
      ]
     },
     "execution_count": 92,
     "metadata": {},
     "output_type": "execute_result"
    }
   ],
   "source": [
    "# 对角线元素相对偏移\n",
    "torch.triu(A, diagonal=1,)"
   ]
  },
  {
   "cell_type": "code",
   "execution_count": 93,
   "id": "cf0f051c-377d-47cb-9890-9aa3d4349b9f",
   "metadata": {},
   "outputs": [
    {
     "name": "stdout",
     "output_type": "stream",
     "text": [
      "tensor([[ 0,  1,  2,  3],\n",
      "        [ 4,  5,  6,  7],\n",
      "        [ 8,  9, 10, 11]])\n",
      "tensor([ 0,  5, 10])\n",
      "tensor([ 1,  6, 11])\n"
     ]
    }
   ],
   "source": [
    "# 获取张量对角线元素\n",
    "C = A.reshape(3, 4)\n",
    "print(C)\n",
    "print(torch.diag(C, diagonal=0))\n",
    "print(torch.diag(C, diagonal=1))"
   ]
  },
  {
   "cell_type": "code",
   "execution_count": 94,
   "id": "1f9742f5-bbc9-44e4-8175-0e4dc464238c",
   "metadata": {},
   "outputs": [
    {
     "data": {
      "text/plain": [
       "tensor([[1, 0, 0],\n",
       "        [0, 2, 0],\n",
       "        [0, 0, 3]])"
      ]
     },
     "execution_count": 94,
     "metadata": {},
     "output_type": "execute_result"
    }
   ],
   "source": [
    "# 提供对角线元素生成矩阵张量\n",
    "torch.diag(torch.tensor([1, 2, 3]))"
   ]
  },
  {
   "cell_type": "code",
   "execution_count": 98,
   "id": "74313b27-222b-4644-83db-4eb8f47b499f",
   "metadata": {},
   "outputs": [
    {
     "name": "stdout",
     "output_type": "stream",
     "text": [
      "tensor([[0., 1., 2.],\n",
      "        [3., 4., 5.]])\n",
      "tensor([[ 0.,  2.,  4.],\n",
      "        [ 6.,  8., 10.]])\n"
     ]
    }
   ],
   "source": [
    "# 拼接与拆分\n",
    "A = torch.arange(6.0).reshape(2, 3)\n",
    "print(A)\n",
    "B = torch.linspace(0, 10, 6).reshape(2, 3)\n",
    "print(B)"
   ]
  },
  {
   "cell_type": "code",
   "execution_count": 101,
   "id": "2b0d4785-4fdc-40c5-8b19-cfceaa0a07d9",
   "metadata": {},
   "outputs": [
    {
     "data": {
      "text/plain": [
       "tensor([[ 0.,  1.,  2.],\n",
       "        [ 3.,  4.,  5.],\n",
       "        [ 0.,  2.,  4.],\n",
       "        [ 6.,  8., 10.]])"
      ]
     },
     "execution_count": 101,
     "metadata": {},
     "output_type": "execute_result"
    }
   ],
   "source": [
    "# 在第 0 维(行)连接张量\n",
    "C = torch.cat((A, B), dim = 0)\n",
    "C"
   ]
  },
  {
   "cell_type": "code",
   "execution_count": 102,
   "id": "a070e1c6-c502-42f4-9fee-e5afbeb9c676",
   "metadata": {},
   "outputs": [
    {
     "data": {
      "text/plain": [
       "tensor([[ 0.,  1.,  2.,  0.,  2.,  4.],\n",
       "        [ 3.,  4.,  5.,  6.,  8., 10.]])"
      ]
     },
     "execution_count": 102,
     "metadata": {},
     "output_type": "execute_result"
    }
   ],
   "source": [
    "# 在第 1 维(列)连接张量\n",
    "C = torch.cat((A, B), dim = 1)\n",
    "C"
   ]
  },
  {
   "cell_type": "code",
   "execution_count": 103,
   "id": "1d7e58c0-7e1f-46c9-9d37-b5b3186dcde7",
   "metadata": {},
   "outputs": [
    {
     "data": {
      "text/plain": [
       "tensor([[ 0.,  1.,  2.,  0.,  2.,  4.,  1.],\n",
       "        [ 3.,  4.,  5.,  6.,  8., 10.,  4.]])"
      ]
     },
     "execution_count": 103,
     "metadata": {},
     "output_type": "execute_result"
    }
   ],
   "source": [
    "# 在第 1 维(列)连接三个张量\n",
    "C = torch.cat((A, B, A[:, 1:2]), dim = 1)\n",
    "C"
   ]
  },
  {
   "cell_type": "code",
   "execution_count": 114,
   "id": "b46519f4-d381-4e2a-bd94-d3290a67086d",
   "metadata": {},
   "outputs": [
    {
     "name": "stdout",
     "output_type": "stream",
     "text": [
      "tensor([[[ 0.,  1.,  2.],\n",
      "         [ 3.,  4.,  5.]],\n",
      "\n",
      "        [[ 0.,  2.,  4.],\n",
      "         [ 6.,  8., 10.]]])\n",
      "torch.Size([2, 2, 3])\n",
      "tensor([[0., 1., 2.],\n",
      "        [3., 4., 5.]])\n",
      "True\n",
      "tensor([[ 0.,  2.,  4.],\n",
      "        [ 6.,  8., 10.]])\n",
      "True\n"
     ]
    }
   ],
   "source": [
    "# 沿新维度连接张量，第 0 维度包含A, B两个元素，第 1 维度和第 2 维度保留了 A 和 B 的原始形状。\n",
    "C = torch.stack((A, B), dim = 0)\n",
    "print(C)\n",
    "print(C.shape)\n",
    "print(C[0])\n",
    "print(C[0].equal(A))\n",
    "print(C[1])\n",
    "print(C[1].equal(B))"
   ]
  },
  {
   "cell_type": "code",
   "execution_count": 115,
   "id": "e54a84b9-2078-4325-938a-8be3ee53137f",
   "metadata": {},
   "outputs": [
    {
     "name": "stdout",
     "output_type": "stream",
     "text": [
      "tensor([[[ 0.,  0.],\n",
      "         [ 1.,  2.],\n",
      "         [ 2.,  4.]],\n",
      "\n",
      "        [[ 3.,  6.],\n",
      "         [ 4.,  8.],\n",
      "         [ 5., 10.]]])\n",
      "torch.Size([2, 3, 2])\n",
      "tensor([[0., 1., 2.],\n",
      "        [3., 4., 5.]])\n",
      "True\n",
      "tensor([[ 0.,  2.,  4.],\n",
      "        [ 6.,  8., 10.]])\n",
      "True\n"
     ]
    }
   ],
   "source": [
    "# 第 0 维度和第 1 维度保留了 A 和 B 的原始形状， 第 2 维度包含A, B沿该维度的值\n",
    "C = torch.stack((A, B), dim = 2)\n",
    "print(C)\n",
    "print(C.shape)\n",
    "print(C[:,:,0])\n",
    "print(C[:,:,0].equal(A))\n",
    "print(C[:,:,1])\n",
    "print(C[:,:,1].equal(B))"
   ]
  },
  {
   "cell_type": "code",
   "execution_count": 125,
   "id": "62a5fbc8-6e1d-4dd0-af50-4aa219248589",
   "metadata": {},
   "outputs": [
    {
     "name": "stdout",
     "output_type": "stream",
     "text": [
      "tensor([[[ 0.,  1.,  2.],\n",
      "         [ 3.,  4.,  5.]],\n",
      "\n",
      "        [[ 0.,  2.,  4.],\n",
      "         [ 6.,  8., 10.]]])\n",
      "tensor([[[0., 1., 2.],\n",
      "         [3., 4., 5.]]])\n",
      "tensor([[[ 0.,  2.,  4.],\n",
      "         [ 6.,  8., 10.]]])\n",
      "torch.Size([2, 2, 3])\n",
      "torch.Size([1, 2, 3])\n",
      "torch.Size([1, 2, 3])\n",
      "torch.Size([2, 3])\n",
      "torch.Size([2, 3])\n"
     ]
    }
   ],
   "source": [
    "# 张量分割\n",
    "C = torch.stack((A, B), dim = 0)\n",
    "D, E = torch.chunk(C, 2, dim=0)\n",
    "print(C)\n",
    "print(D)\n",
    "print(E)\n",
    "print(C.shape)\n",
    "print(D.shape)\n",
    "print(E.shape)\n",
    "D = torch.squeeze(D)\n",
    "E = torch.squeeze(E)\n",
    "print(D.shape)\n",
    "print(E.shape)"
   ]
  },
  {
   "cell_type": "code",
   "execution_count": 132,
   "id": "2679e016-6853-498c-9056-274be5fdc5e8",
   "metadata": {},
   "outputs": [
    {
     "name": "stdout",
     "output_type": "stream",
     "text": [
      "tensor([[ 0.,  1.,  2.,  0.,  2.,  4.,  1.],\n",
      "        [ 3.,  4.,  5.,  6.,  8., 10.,  4.]])\n",
      "tensor([[0., 1., 2.],\n",
      "        [3., 4., 5.]])\n",
      "tensor([[ 0.,  2.,  4.],\n",
      "        [ 6.,  8., 10.]])\n",
      "tensor([[1.],\n",
      "        [4.]])\n"
     ]
    }
   ],
   "source": [
    "# 块数无法被指定维度的数整除时，最后一块为最小，7 / 3 = 2....1，所以最后一块为 1 列\n",
    "C = torch.cat((A, B, A[:, 1:2]), dim = 1)\n",
    "print(C)\n",
    "D1, D2, D3 = torch.chunk(C, 3, dim = 1)\n",
    "print(D1)\n",
    "print(D2)\n",
    "print(D3)"
   ]
  },
  {
   "cell_type": "code",
   "execution_count": 135,
   "id": "58d55497-caf8-4a02-a94c-0414da6e54c6",
   "metadata": {},
   "outputs": [
    {
     "name": "stdout",
     "output_type": "stream",
     "text": [
      "tensor([[0.],\n",
      "        [3.]])\n",
      "tensor([[1., 2.],\n",
      "        [4., 5.]])\n",
      "tensor([[ 0.,  2.,  4.,  1.],\n",
      "        [ 6.,  8., 10.,  4.]])\n"
     ]
    }
   ],
   "source": [
    "# .split()将张量切分为块，指定每个块的大小\n",
    "D1, D2, D3 = torch.split(C, [1, 2, 4], dim = 1)\n",
    "print(D1)\n",
    "print(D2)\n",
    "print(D3)"
   ]
  },
  {
   "cell_type": "code",
   "execution_count": null,
   "id": "77db5fdf-d8d0-4468-bbc2-9e91535ee706",
   "metadata": {},
   "outputs": [],
   "source": []
  }
 ],
 "metadata": {
  "kernelspec": {
   "display_name": "Python 3 (ipykernel)",
   "language": "python",
   "name": "python3"
  },
  "language_info": {
   "codemirror_mode": {
    "name": "ipython",
    "version": 3
   },
   "file_extension": ".py",
   "mimetype": "text/x-python",
   "name": "python",
   "nbconvert_exporter": "python",
   "pygments_lexer": "ipython3",
   "version": "3.8.19"
  }
 },
 "nbformat": 4,
 "nbformat_minor": 5
}
