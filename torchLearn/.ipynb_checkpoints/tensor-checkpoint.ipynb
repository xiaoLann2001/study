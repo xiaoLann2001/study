{
 "cells": [
  {
   "cell_type": "code",
   "execution_count": 24,
   "id": "4b12c5ae-0740-4a38-a302-f3ca4bcefbb0",
   "metadata": {},
   "outputs": [],
   "source": [
    "import torch"
   ]
  },
  {
   "cell_type": "code",
   "execution_count": 25,
   "id": "f3fd1b94-9ac8-4408-8e72-07d1a5fff1a6",
   "metadata": {},
   "outputs": [
    {
     "data": {
      "text/plain": [
       "torch.float64"
      ]
     },
     "execution_count": 25,
     "metadata": {},
     "output_type": "execute_result"
    }
   ],
   "source": [
    "torch.tensor([1.2, 3.4]).dtype"
   ]
  },
  {
   "cell_type": "code",
   "execution_count": 26,
   "id": "9e6e179b-309d-4554-86ec-5ee8c6dcd3ca",
   "metadata": {},
   "outputs": [],
   "source": [
    "torch.set_default_dtype(torch.float64)\n",
    "a = torch.tensor([1.2, 3.4])"
   ]
  },
  {
   "cell_type": "code",
   "execution_count": 31,
   "id": "bf9b50b0-5cc1-46bb-bcb2-80c38cd205ec",
   "metadata": {
    "scrolled": true
   },
   "outputs": [
    {
     "name": "stdout",
     "output_type": "stream",
     "text": [
      "a: tensor([1.2000, 3.4000])\n",
      "a.dtype: torch.float64\n"
     ]
    }
   ],
   "source": [
    "print(f'a: {a}\\na.dtype: {a.dtype}')"
   ]
  },
  {
   "cell_type": "code",
   "execution_count": 33,
   "id": "40407cc1-5c6b-4430-b64d-1daf70a5d187",
   "metadata": {},
   "outputs": [
    {
     "name": "stdout",
     "output_type": "stream",
     "text": [
      "b.shape: torch.Size([2, 3])\n",
      "b.size: <built-in method size of Tensor object at 0x0000021D2D74AF90>\n",
      "b.numel: <built-in method numel of Tensor object at 0x0000021D2D74AF90>\n"
     ]
    }
   ],
   "source": [
    "b = torch.Tensor(2, 3)\n",
    "print(f'b.shape: {b.shape}\\nb.size: {b.size}\\nb.numel: {b.numel}')"
   ]
  },
  {
   "cell_type": "code",
   "execution_count": null,
   "id": "be5e68fa-977d-40b4-97c0-78022d6d2616",
   "metadata": {},
   "outputs": [],
   "source": []
  },
  {
   "cell_type": "code",
   "execution_count": null,
   "id": "ae1f2ebb-d1c9-4680-923b-abf8f7543857",
   "metadata": {},
   "outputs": [],
   "source": []
  }
 ],
 "metadata": {
  "kernelspec": {
   "display_name": "Python 3 (ipykernel)",
   "language": "python",
   "name": "python3"
  },
  "language_info": {
   "codemirror_mode": {
    "name": "ipython",
    "version": 3
   },
   "file_extension": ".py",
   "mimetype": "text/x-python",
   "name": "python",
   "nbconvert_exporter": "python",
   "pygments_lexer": "ipython3",
   "version": "3.8.19"
  }
 },
 "nbformat": 4,
 "nbformat_minor": 5
}
