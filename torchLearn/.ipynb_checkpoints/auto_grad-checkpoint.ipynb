{
 "cells": [
  {
   "cell_type": "code",
   "execution_count": 7,
   "id": "28d15eb4-32ba-47f8-bb4c-746d00acb97c",
   "metadata": {},
   "outputs": [],
   "source": [
    "import torch"
   ]
  },
  {
   "cell_type": "code",
   "execution_count": 8,
   "id": "d1f41e9b-ac32-4a4f-8f1d-ee7a73b62b2b",
   "metadata": {},
   "outputs": [],
   "source": [
    "## pytorch中的自动微分"
   ]
  },
  {
   "cell_type": "code",
   "execution_count": 9,
   "id": "c5b463c7-c76b-4179-ade3-c797dda79048",
   "metadata": {},
   "outputs": [
    {
     "name": "stdout",
     "output_type": "stream",
     "text": [
      "True\n",
      "True\n",
      "tensor([[1., 2.],\n",
      "        [3., 4.]], requires_grad=True)\n",
      "tensor(54., grad_fn=<SumBackward0>)\n"
     ]
    }
   ],
   "source": [
    "# 设置参数 requires_grad = True\n",
    "x = torch.tensor([[1.0, 2.0], [3.0, 4.0]], requires_grad = True)\n",
    "y = torch.sum(x ** 2 + 2 * x + 1)\n",
    "print(x.requires_grad)\n",
    "print(y.requires_grad)\n",
    "print(x)\n",
    "print(y)"
   ]
  },
  {
   "cell_type": "code",
   "execution_count": 10,
   "id": "0984d624-1fdd-4172-8db5-703f603287d2",
   "metadata": {},
   "outputs": [],
   "source": [
    "y.backward()"
   ]
  },
  {
   "cell_type": "code",
   "execution_count": 13,
   "id": "02ae7552-d369-42a2-8c35-52ade37a3441",
   "metadata": {},
   "outputs": [
    {
     "data": {
      "text/plain": [
       "tensor([[ 4.,  6.],\n",
       "        [ 8., 10.]])"
      ]
     },
     "execution_count": 13,
     "metadata": {},
     "output_type": "execute_result"
    }
   ],
   "source": [
    "x.grad"
   ]
  },
  {
   "cell_type": "code",
   "execution_count": 14,
   "id": "b4e6a2cb-745f-45aa-a8be-e0944a65cab6",
   "metadata": {},
   "outputs": [],
   "source": [
    "# grad = 2x + 2"
   ]
  },
  {
   "cell_type": "code",
   "execution_count": null,
   "id": "8aa30395-f65f-4d0b-9127-b9254813c8ee",
   "metadata": {},
   "outputs": [],
   "source": []
  }
 ],
 "metadata": {
  "kernelspec": {
   "display_name": "Python 3 (ipykernel)",
   "language": "python",
   "name": "python3"
  },
  "language_info": {
   "codemirror_mode": {
    "name": "ipython",
    "version": 3
   },
   "file_extension": ".py",
   "mimetype": "text/x-python",
   "name": "python",
   "nbconvert_exporter": "python",
   "pygments_lexer": "ipython3",
   "version": "3.8.19"
  }
 },
 "nbformat": 4,
 "nbformat_minor": 5
}
