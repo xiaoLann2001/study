{
 "cells": [
  {
   "cell_type": "code",
   "execution_count": 59,
   "id": "745bc4f7-0c0b-4c94-ad79-68fd760f00f6",
   "metadata": {},
   "outputs": [],
   "source": [
    "import torch"
   ]
  },
  {
   "cell_type": "code",
   "execution_count": 60,
   "id": "b889cb2c-04c0-4679-9284-c16e297d1249",
   "metadata": {},
   "outputs": [],
   "source": [
    "## 比较大小"
   ]
  },
  {
   "cell_type": "code",
   "execution_count": 61,
   "id": "f145764b-d1d3-45e9-8e0c-d32e4616980c",
   "metadata": {},
   "outputs": [
    {
     "name": "stdout",
     "output_type": "stream",
     "text": [
      "False\n",
      "True\n"
     ]
    }
   ],
   "source": [
    "# 比较两个数是否接近\n",
    "A = torch.tensor([10.0])\n",
    "B = torch.tensor([10.1])\n",
    "print(torch.allclose(A, B, rtol=1e-05, atol=1e-08,equal_nan=False))\n",
    "print(torch.allclose(A, B, rtol=0.1, atol=0.01,equal_nan=False))"
   ]
  },
  {
   "cell_type": "code",
   "execution_count": 62,
   "id": "f8227d3e-ac98-469b-aea1-1553b1115eaf",
   "metadata": {},
   "outputs": [
    {
     "name": "stdout",
     "output_type": "stream",
     "text": [
      "tensor([True, True, True, True, True, True])\n",
      "tensor([[True, True, True, True, True, True]])\n"
     ]
    }
   ],
   "source": [
    "# 计算元素是否相等\n",
    "A = torch.tensor([1, 2, 3, 4, 5, 6])\n",
    "B = torch.arange(1, 7)\n",
    "C = torch.unsqueeze(B, dim=0)\n",
    "print(torch.eq(A, B))\n",
    "print(torch.eq(A, C))"
   ]
  },
  {
   "cell_type": "code",
   "execution_count": 63,
   "id": "2ab7a0f2-4349-468e-9875-44bfe4d22451",
   "metadata": {},
   "outputs": [
    {
     "name": "stdout",
     "output_type": "stream",
     "text": [
      "True\n",
      "False\n"
     ]
    }
   ],
   "source": [
    "# 判断两个张量是否具有相同的形状和元素\n",
    "print(torch.equal(A, B))\n",
    "print(torch.equal(A, C))"
   ]
  },
  {
   "cell_type": "code",
   "execution_count": 64,
   "id": "07cc5c63-6e43-4c5b-9dea-e0fae1912014",
   "metadata": {},
   "outputs": [
    {
     "name": "stdout",
     "output_type": "stream",
     "text": [
      "tensor([True, True, True, True, True, True])\n",
      "tensor([[True, True, True, True, True, True]])\n"
     ]
    }
   ],
   "source": [
    "# 逐元素比较是否大于等于(greater or equal)\n",
    "print(torch.ge(A, B))\n",
    "print(torch.ge(A, C))"
   ]
  },
  {
   "cell_type": "code",
   "execution_count": 65,
   "id": "2d4070c8-5fea-470f-baf9-a9dc1271eb4f",
   "metadata": {},
   "outputs": [
    {
     "name": "stdout",
     "output_type": "stream",
     "text": [
      "tensor([False, False, False, False, False, False])\n",
      "tensor([[False, False, False, False, False, False]])\n"
     ]
    }
   ],
   "source": [
    "# 逐元素比较是否大于(greater than)\n",
    "print(torch.gt(A, B))\n",
    "print(torch.gt(A, C))"
   ]
  },
  {
   "cell_type": "code",
   "execution_count": 66,
   "id": "fc36b2c1-91ff-4337-bb83-a20eb5f38c67",
   "metadata": {},
   "outputs": [
    {
     "name": "stdout",
     "output_type": "stream",
     "text": [
      "tensor([True, True, True, True, True, True])\n",
      "tensor([[True, True, True, True, True, True]])\n"
     ]
    }
   ],
   "source": [
    "# 逐元素比较是否小于等于(less or equal)\n",
    "print(torch.le(A, B))\n",
    "print(torch.le(A, C))"
   ]
  },
  {
   "cell_type": "code",
   "execution_count": 67,
   "id": "aa3fafc1-d4ca-4b41-933f-55318d4e5641",
   "metadata": {},
   "outputs": [
    {
     "name": "stdout",
     "output_type": "stream",
     "text": [
      "tensor([False, False, False, False, False, False])\n",
      "tensor([[False, False, False, False, False, False]])\n"
     ]
    }
   ],
   "source": [
    "# 逐元素比较是否小于等于(less than)\n",
    "print(torch.lt(A, B))\n",
    "print(torch.lt(A, C))"
   ]
  },
  {
   "cell_type": "code",
   "execution_count": 68,
   "id": "507dd725-26bc-4fad-bbce-56abe30f001a",
   "metadata": {},
   "outputs": [
    {
     "name": "stdout",
     "output_type": "stream",
     "text": [
      "tensor([False, False, False, False, False, False])\n",
      "tensor([[False, False, False, False, False, False]])\n"
     ]
    }
   ],
   "source": [
    "# 逐元素比较是否不等于(not equal)\n",
    "print(torch.ne(A, B))\n",
    "print(torch.ne(A, C))"
   ]
  },
  {
   "cell_type": "code",
   "execution_count": 69,
   "id": "38f0b3bd-829c-4bc0-97d7-6c01c4e32287",
   "metadata": {},
   "outputs": [
    {
     "name": "stdout",
     "output_type": "stream",
     "text": [
      "tensor([False, False,  True, False, False, False])\n"
     ]
    }
   ],
   "source": [
    "# 逐元素比较是否为缺失值(is nan)\n",
    "A = torch.arange(1.0, 7.0)\n",
    "A[2] = float(\"nan\")\n",
    "print(torch.isnan(A))"
   ]
  },
  {
   "cell_type": "code",
   "execution_count": 70,
   "id": "3aa74f73-dbae-4e32-8559-c0aeda63930b",
   "metadata": {},
   "outputs": [],
   "source": [
    "## 基本运算，逐元素运算"
   ]
  },
  {
   "cell_type": "code",
   "execution_count": 71,
   "id": "3816f923-4cd3-475d-8489-0b3af923d10e",
   "metadata": {},
   "outputs": [
    {
     "name": "stdout",
     "output_type": "stream",
     "text": [
      "tensor([[0., 1., 2.],\n",
      "        [3., 4., 5.]])\n",
      "tensor([[10., 12., 14.],\n",
      "        [16., 18., 20.]])\n",
      "tensor([[  0.,  12.,  28.],\n",
      "        [ 48.,  72., 100.]])\n"
     ]
    }
   ],
   "source": [
    "# 矩阵逐元素相乘\n",
    "A = torch.arange(6.0).reshape(2, 3)\n",
    "B = torch.linspace(10, 20, steps = 6).reshape(2, 3)\n",
    "print(A)\n",
    "print(B)\n",
    "print(A * B)"
   ]
  },
  {
   "cell_type": "code",
   "execution_count": 72,
   "id": "227314e5-6744-4758-bd5b-ba4245f24fda",
   "metadata": {},
   "outputs": [
    {
     "name": "stdout",
     "output_type": "stream",
     "text": [
      "tensor([[0.0000, 0.0833, 0.1429],\n",
      "        [0.1875, 0.2222, 0.2500]])\n"
     ]
    }
   ],
   "source": [
    "# 矩阵逐元素相除\n",
    "print(A / B)"
   ]
  },
  {
   "cell_type": "code",
   "execution_count": 73,
   "id": "921b2bff-bbe9-4b08-bb3f-9af1217874a7",
   "metadata": {},
   "outputs": [
    {
     "name": "stdout",
     "output_type": "stream",
     "text": [
      "tensor([[10., 13., 16.],\n",
      "        [19., 22., 25.]])\n"
     ]
    }
   ],
   "source": [
    "# 矩阵逐元素相加\n",
    "print(A + B)"
   ]
  },
  {
   "cell_type": "code",
   "execution_count": 74,
   "id": "6b2ed0a2-8125-4887-9912-325b0f633a54",
   "metadata": {},
   "outputs": [
    {
     "name": "stdout",
     "output_type": "stream",
     "text": [
      "tensor([[-10., -11., -12.],\n",
      "        [-13., -14., -15.]])\n"
     ]
    }
   ],
   "source": [
    "# 矩阵逐元素相减\n",
    "print(A - B)"
   ]
  },
  {
   "cell_type": "code",
   "execution_count": 75,
   "id": "d556ff88-b994-4a6d-94f2-3729ca40d342",
   "metadata": {},
   "outputs": [
    {
     "name": "stdout",
     "output_type": "stream",
     "text": [
      "tensor([[    inf, 12.0000,  7.0000],\n",
      "        [ 5.3333,  4.5000,  4.0000]])\n"
     ]
    }
   ],
   "source": [
    "# 矩阵逐元素整除\n",
    "print(B / A)"
   ]
  },
  {
   "cell_type": "code",
   "execution_count": 76,
   "id": "87898031-fad6-4108-b1fe-c9bb94c4f198",
   "metadata": {},
   "outputs": [
    {
     "name": "stdout",
     "output_type": "stream",
     "text": [
      "tensor([[  0.,   1.,   8.],\n",
      "        [ 27.,  64., 125.]])\n",
      "tensor([[  0.,   1.,   8.],\n",
      "        [ 27.,  64., 125.]])\n"
     ]
    }
   ],
   "source": [
    "# 张量的幂\n",
    "print(torch.pow(A, 3))\n",
    "print(A ** 3)"
   ]
  },
  {
   "cell_type": "code",
   "execution_count": 77,
   "id": "f72388e8-6bc3-4553-83f3-c7508a320504",
   "metadata": {},
   "outputs": [
    {
     "data": {
      "text/plain": [
       "tensor([[  1.0000,   2.7183,   7.3891],\n",
       "        [ 20.0855,  54.5981, 148.4132]])"
      ]
     },
     "execution_count": 77,
     "metadata": {},
     "output_type": "execute_result"
    }
   ],
   "source": [
    "# 张量的指数\n",
    "torch.exp(A)"
   ]
  },
  {
   "cell_type": "code",
   "execution_count": 78,
   "id": "d87fdbbe-49a1-4e97-bd9c-dc2618a641bb",
   "metadata": {},
   "outputs": [
    {
     "data": {
      "text/plain": [
       "tensor([[  -inf, 0.0000, 0.6931],\n",
       "        [1.0986, 1.3863, 1.6094]])"
      ]
     },
     "execution_count": 78,
     "metadata": {},
     "output_type": "execute_result"
    }
   ],
   "source": [
    "# 张量的对数\n",
    "torch.log(A)"
   ]
  },
  {
   "cell_type": "code",
   "execution_count": 79,
   "id": "8487a5e7-0799-4930-becd-e4713b3eba43",
   "metadata": {},
   "outputs": [
    {
     "name": "stdout",
     "output_type": "stream",
     "text": [
      "tensor([[0.0000, 1.0000, 1.4142],\n",
      "        [1.7321, 2.0000, 2.2361]])\n",
      "tensor([[0.0000, 1.0000, 1.4142],\n",
      "        [1.7321, 2.0000, 2.2361]])\n"
     ]
    }
   ],
   "source": [
    "# 张量的平方根\n",
    "print(torch.sqrt(A))\n",
    "print(A ** 0.5)"
   ]
  },
  {
   "cell_type": "code",
   "execution_count": 80,
   "id": "74ed4e9f-5cdf-4e3c-9e1c-4ea8c71ca4dc",
   "metadata": {},
   "outputs": [
    {
     "name": "stdout",
     "output_type": "stream",
     "text": [
      "tensor([[   inf, 1.0000, 0.7071],\n",
      "        [0.5774, 0.5000, 0.4472]])\n",
      "tensor([[   inf, 1.0000, 0.7071],\n",
      "        [0.5774, 0.5000, 0.4472]])\n"
     ]
    }
   ],
   "source": [
    "# 张量的平方根倒数\n",
    "print(torch.rsqrt(A))\n",
    "print(1 / (A ** 0.5))"
   ]
  },
  {
   "cell_type": "code",
   "execution_count": 81,
   "id": "ae189667-1374-4774-879a-18ec058f8aa2",
   "metadata": {},
   "outputs": [
    {
     "data": {
      "text/plain": [
       "tensor([[0., 1., 2.],\n",
       "        [3., 4., 4.]])"
      ]
     },
     "execution_count": 81,
     "metadata": {},
     "output_type": "execute_result"
    }
   ],
   "source": [
    "# 根据最大值裁剪\n",
    "torch.clamp_max(A, 4)"
   ]
  },
  {
   "cell_type": "code",
   "execution_count": 82,
   "id": "47776ebe-5b22-4e6f-a1ed-bb192813e396",
   "metadata": {},
   "outputs": [
    {
     "data": {
      "text/plain": [
       "tensor([[3., 3., 3.],\n",
       "        [3., 4., 5.]])"
      ]
     },
     "execution_count": 82,
     "metadata": {},
     "output_type": "execute_result"
    }
   ],
   "source": [
    "# 根据最小值裁剪\n",
    "torch.clamp_min(A, 3)"
   ]
  },
  {
   "cell_type": "code",
   "execution_count": 83,
   "id": "a9de8d84-e107-4e0c-b733-bcb1b0097acd",
   "metadata": {},
   "outputs": [
    {
     "data": {
      "text/plain": [
       "tensor([[2.5000, 2.5000, 2.5000],\n",
       "        [3.0000, 4.0000, 4.0000]])"
      ]
     },
     "execution_count": 83,
     "metadata": {},
     "output_type": "execute_result"
    }
   ],
   "source": [
    "# 根据范围裁剪\n",
    "torch.clamp(A, 2.5, 4)"
   ]
  },
  {
   "cell_type": "code",
   "execution_count": 84,
   "id": "2e339465-d6e8-4c7b-b3e4-cd45952040e3",
   "metadata": {},
   "outputs": [],
   "source": [
    "## 基本运算，整个矩阵运算"
   ]
  },
  {
   "cell_type": "code",
   "execution_count": 85,
   "id": "b09a94e8-3104-450a-9853-301f6c910265",
   "metadata": {},
   "outputs": [
    {
     "data": {
      "text/plain": [
       "tensor([[0., 3.],\n",
       "        [1., 4.],\n",
       "        [2., 5.]])"
      ]
     },
     "execution_count": 85,
     "metadata": {},
     "output_type": "execute_result"
    }
   ],
   "source": [
    "# 矩阵的转置\n",
    "C = torch.t(A)\n",
    "C"
   ]
  },
  {
   "cell_type": "code",
   "execution_count": 86,
   "id": "a469c756-a9db-4c63-8b45-23a6a296504a",
   "metadata": {},
   "outputs": [
    {
     "name": "stdout",
     "output_type": "stream",
     "text": [
      "tensor([[True, True],\n",
      "        [True, True]])\n"
     ]
    },
    {
     "data": {
      "text/plain": [
       "tensor([[[ 16.,  18.,  20.],\n",
       "         [ 68.,  78.,  88.],\n",
       "         [120., 138., 156.]],\n",
       "\n",
       "        [[172., 198., 224.],\n",
       "         [224., 258., 292.],\n",
       "         [276., 318., 360.]]])"
      ]
     },
     "execution_count": 86,
     "metadata": {},
     "output_type": "execute_result"
    }
   ],
   "source": [
    "# 矩阵运算，矩阵相乘 (A的行数要等于C的列数)\n",
    "A.matmul(C)\n",
    "print(A.matmul(C).eq(torch.mm(A, C)))\n",
    "A = torch.arange(12.0).reshape(2, 2, 3)\n",
    "A = torch.arange(12.0).reshape(2, 3, 2)\n",
    "AB = torch.matmul(A, B)\n",
    "AB"
   ]
  },
  {
   "cell_type": "code",
   "execution_count": 50,
   "id": "42db745e-b502-4d58-af2b-8d90b7d19e61",
   "metadata": {},
   "outputs": [
    {
     "name": "stdout",
     "output_type": "stream",
     "text": [
      "tensor([[True, True, True],\n",
      "        [True, True, True],\n",
      "        [True, True, True]])\n",
      "tensor([[True, True, True],\n",
      "        [True, True, True],\n",
      "        [True, True, True]])\n"
     ]
    }
   ],
   "source": [
    "# 矩阵相乘只计算最后面两个维度的乘法\n",
    "print(AB[0].eq(torch.matmul(A[0], B[0])))\n",
    "print(AB[1].eq(torch.matmul(A[1], B[1])))"
   ]
  },
  {
   "cell_type": "code",
   "execution_count": 51,
   "id": "79d2de0e-5c65-4c11-bba2-6c7ee26587fd",
   "metadata": {},
   "outputs": [
    {
     "data": {
      "text/plain": [
       "tensor([[ 1.0000e+00, -1.4715e-07,  1.3970e-08],\n",
       "        [-1.8626e-08,  1.0000e+00,  3.7253e-09],\n",
       "        [ 0.0000e+00,  4.7684e-07,  1.0000e+00]])"
      ]
     },
     "execution_count": 51,
     "metadata": {},
     "output_type": "execute_result"
    }
   ],
   "source": [
    "# 矩阵的逆\n",
    "C = torch.rand(3, 3)\n",
    "D = torch.inverse(C)\n",
    "torch.mm(C, D)"
   ]
  },
  {
   "cell_type": "code",
   "execution_count": 88,
   "id": "3f2bb70e-0301-477a-8703-dba696bdfa73",
   "metadata": {},
   "outputs": [
    {
     "name": "stdout",
     "output_type": "stream",
     "text": [
      "tensor([[0., 1., 2.],\n",
      "        [3., 4., 5.],\n",
      "        [6., 7., 8.]])\n"
     ]
    },
    {
     "data": {
      "text/plain": [
       "tensor(12.)"
      ]
     },
     "execution_count": 88,
     "metadata": {},
     "output_type": "execute_result"
    }
   ],
   "source": [
    "# 矩阵的迹\n",
    "D = torch.arange(9.0).reshape(3, 3)\n",
    "print(D)\n",
    "torch.trace(D)"
   ]
  },
  {
   "cell_type": "code",
   "execution_count": 89,
   "id": "71a3d221-2f3f-4b5d-a26a-3055a58c5366",
   "metadata": {},
   "outputs": [],
   "source": [
    "## 统计相关的计算"
   ]
  },
  {
   "cell_type": "code",
   "execution_count": 94,
   "id": "bbd01357-78ff-4586-9613-4390e2ba04d4",
   "metadata": {},
   "outputs": [
    {
     "name": "stdout",
     "output_type": "stream",
     "text": [
      "最大值:  tensor(99.)\n",
      "最大值位置 tensor(8)\n",
      "tensor(99.)\n",
      "最小值:  tensor(11.)\n",
      "最小值位置 tensor(3)\n",
      "tensor(11.)\n"
     ]
    }
   ],
   "source": [
    "# 一维张量的最大值和最小值\n",
    "A = torch.tensor([12., 34, 25, 11, 67, 32, 29, 30, 99, 55, 23, 44])\n",
    "print(\"最大值: \", A.max())\n",
    "print(\"最大值位置\", A.argmax())\n",
    "print(A[A.argmax()])\n",
    "print(\"最小值: \", A.min())\n",
    "print(\"最小值位置\", A.argmin())\n",
    "print(A[A.argmin()])"
   ]
  },
  {
   "cell_type": "code",
   "execution_count": 98,
   "id": "06db1ea9-0272-4723-a791-aa7d28140a17",
   "metadata": {},
   "outputs": [
    {
     "name": "stdout",
     "output_type": "stream",
     "text": [
      "tensor([[12., 34., 25., 11.],\n",
      "        [67., 32., 29., 30.],\n",
      "        [99., 55., 23., 44.]])\n",
      "每行最大值:  torch.return_types.max(\n",
      "values=tensor([34., 67., 99.]),\n",
      "indices=tensor([1, 0, 0]))\n",
      "每行最大值位置:  tensor([1, 0, 0])\n"
     ]
    }
   ],
   "source": [
    "# 二维张量的最大值和最小值\n",
    "B = A.reshape(3, 4)\n",
    "print(B)\n",
    "print(\"每行最大值: \", B.max(dim = 1))\n",
    "print(\"每行最大值位置: \", B.argmax(dim = 1))"
   ]
  },
  {
   "cell_type": "code",
   "execution_count": 99,
   "id": "7aab7fa9-4ff6-4476-a46d-dd489a87f9d1",
   "metadata": {},
   "outputs": [
    {
     "name": "stdout",
     "output_type": "stream",
     "text": [
      "每列最小值:  torch.return_types.min(\n",
      "values=tensor([12., 32., 23., 11.]),\n",
      "indices=tensor([0, 1, 2, 0]))\n",
      "每列最小值位置:  tensor([0, 1, 2, 0])\n"
     ]
    }
   ],
   "source": [
    "print(\"每列最小值: \", B.min(dim = 0))\n",
    "print(\"每列最小值位置: \", B.argmin(dim = 0))"
   ]
  },
  {
   "cell_type": "code",
   "execution_count": 102,
   "id": "18a230f0-09e7-49e6-8fab-350088f6fe86",
   "metadata": {},
   "outputs": [
    {
     "data": {
      "text/plain": [
       "torch.return_types.sort(\n",
       "values=tensor([11., 12., 23., 25., 29., 30., 32., 34., 44., 55., 67., 99.]),\n",
       "indices=tensor([ 3,  0, 10,  2,  6,  7,  5,  1, 11,  9,  4,  8]))"
      ]
     },
     "execution_count": 102,
     "metadata": {},
     "output_type": "execute_result"
    }
   ],
   "source": [
    "# 张量排序\n",
    "torch.sort(A)"
   ]
  },
  {
   "cell_type": "code",
   "execution_count": 104,
   "id": "32838cd7-7116-4b93-b048-7fba70c50bbd",
   "metadata": {},
   "outputs": [
    {
     "data": {
      "text/plain": [
       "torch.return_types.sort(\n",
       "values=tensor([99., 67., 55., 44., 34., 32., 30., 29., 25., 23., 12., 11.]),\n",
       "indices=tensor([ 8,  4,  9, 11,  1,  5,  7,  6,  2, 10,  0,  3]))"
      ]
     },
     "execution_count": 104,
     "metadata": {},
     "output_type": "execute_result"
    }
   ],
   "source": [
    "# 降序\n",
    "torch.sort(A, descending = True)"
   ]
  },
  {
   "cell_type": "code",
   "execution_count": 106,
   "id": "4e160370-d401-4da4-9692-27c9dfdd3161",
   "metadata": {},
   "outputs": [
    {
     "name": "stdout",
     "output_type": "stream",
     "text": [
      "tensor([[12., 34., 25., 11.],\n",
      "        [67., 32., 29., 30.],\n",
      "        [99., 55., 23., 44.]])\n",
      "B sort:  tensor([[11., 12., 25., 34.],\n",
      "        [29., 30., 32., 67.],\n",
      "        [23., 44., 55., 99.]])\n",
      "B sort index:  tensor([[3, 0, 2, 1],\n",
      "        [2, 3, 1, 0],\n",
      "        [2, 3, 1, 0]])\n",
      "B argsort:  tensor([[3, 0, 2, 1],\n",
      "        [2, 3, 1, 0],\n",
      "        [2, 3, 1, 0]])\n"
     ]
    }
   ],
   "source": [
    "# 对二维张量进行排序\n",
    "print(B)\n",
    "Bsort, Bsort_id = torch.sort(B)\n",
    "print(\"B sort: \", Bsort)\n",
    "print(\"B sort index: \", Bsort_id)\n",
    "print(\"B argsort: \", torch.argsort(B))"
   ]
  },
  {
   "cell_type": "code",
   "execution_count": 107,
   "id": "9659fe09-1ccb-4d29-b2be-0afbf33ba562",
   "metadata": {},
   "outputs": [
    {
     "data": {
      "text/plain": [
       "torch.return_types.topk(\n",
       "values=tensor([99., 67., 55., 44.]),\n",
       "indices=tensor([ 8,  4,  9, 11]))"
      ]
     },
     "execution_count": 107,
     "metadata": {},
     "output_type": "execute_result"
    }
   ],
   "source": [
    "# 获取张量前几个大的数值\n",
    "torch.topk(A, 4)"
   ]
  },
  {
   "cell_type": "code",
   "execution_count": 113,
   "id": "ef36c70d-9b1f-40fb-b7f2-88c98b50ca15",
   "metadata": {},
   "outputs": [
    {
     "data": {
      "text/plain": [
       "torch.return_types.topk(\n",
       "values=tensor([11., 12., 23., 25.]),\n",
       "indices=tensor([ 3,  0, 10,  2]))"
      ]
     },
     "execution_count": 113,
     "metadata": {},
     "output_type": "execute_result"
    }
   ],
   "source": [
    "# 获取张量前几个小的数值\n",
    "torch.topk(A, 4, largest = False)"
   ]
  },
  {
   "cell_type": "code",
   "execution_count": 114,
   "id": "da0d583c-a69e-404b-a923-b8a38067c4d2",
   "metadata": {},
   "outputs": [
    {
     "name": "stdout",
     "output_type": "stream",
     "text": [
      "tensor([[99., 55., 29., 44.],\n",
      "        [67., 34., 25., 30.]])\n",
      "tensor([[2, 2, 1, 2],\n",
      "        [1, 0, 0, 1]])\n"
     ]
    }
   ],
   "source": [
    "# 获取二维张量每列前几个大的数值\n",
    "Btop2, Btop2_id = torch.topk(B, 2, dim = 0)\n",
    "print(Btop2)\n",
    "print(Btop2_id)"
   ]
  },
  {
   "cell_type": "code",
   "execution_count": 115,
   "id": "5d5fc57e-2ade-4441-9fb9-b5e5e4fe5851",
   "metadata": {},
   "outputs": [
    {
     "data": {
      "text/plain": [
       "torch.return_types.kthvalue(\n",
       "values=tensor(23.),\n",
       "indices=tensor(10))"
      ]
     },
     "execution_count": 115,
     "metadata": {},
     "output_type": "execute_result"
    }
   ],
   "source": [
    "# 获取张量第 k 小的数值和位置\n",
    "torch.kthvalue(A, 3)"
   ]
  },
  {
   "cell_type": "code",
   "execution_count": 116,
   "id": "ce387cbc-531f-4bf1-90a2-14431acec47d",
   "metadata": {},
   "outputs": [
    {
     "data": {
      "text/plain": [
       "torch.return_types.kthvalue(\n",
       "values=tensor([25., 32., 55.]),\n",
       "indices=tensor([2, 1, 1]))"
      ]
     },
     "execution_count": 116,
     "metadata": {},
     "output_type": "execute_result"
    }
   ],
   "source": [
    "# 获取二维张量第 k 小的数值和位置\n",
    "torch.kthvalue(B, 3, dim = 1)"
   ]
  },
  {
   "cell_type": "code",
   "execution_count": 117,
   "id": "e761dff0-1df3-4264-bdc4-76f45b148282",
   "metadata": {},
   "outputs": [
    {
     "data": {
      "text/plain": [
       "torch.return_types.kthvalue(\n",
       "values=tensor([[25.],\n",
       "        [32.],\n",
       "        [55.]]),\n",
       "indices=tensor([[2],\n",
       "        [1],\n",
       "        [1]]))"
      ]
     },
     "execution_count": 117,
     "metadata": {},
     "output_type": "execute_result"
    }
   ],
   "source": [
    "# 获取二维张量第 k 小的数值和位置\n",
    "torch.kthvalue(B, 3, dim = 1, keepdim = True)"
   ]
  },
  {
   "cell_type": "code",
   "execution_count": 119,
   "id": "c6673f6d-72f6-4b40-ae6b-96e8b9ab379e",
   "metadata": {},
   "outputs": [
    {
     "name": "stdout",
     "output_type": "stream",
     "text": [
      "tensor([[12., 34., 25., 11.],\n",
      "        [67., 32., 29., 30.],\n",
      "        [99., 55., 23., 44.]])\n",
      "tensor([[20.5000],\n",
      "        [39.5000],\n",
      "        [55.2500]])\n"
     ]
    }
   ],
   "source": [
    "# 计算每行平均值\n",
    "print(B)\n",
    "print(torch.mean(B, dim = 1, keepdim = True))"
   ]
  },
  {
   "cell_type": "code",
   "execution_count": 120,
   "id": "72a3d221-d77e-496f-af5b-1156fca77a3d",
   "metadata": {},
   "outputs": [
    {
     "name": "stdout",
     "output_type": "stream",
     "text": [
      "tensor([[12., 34., 25., 11.],\n",
      "        [67., 32., 29., 30.],\n",
      "        [99., 55., 23., 44.]])\n",
      "tensor([[59.3333, 40.3333, 25.6667, 28.3333]])\n"
     ]
    }
   ],
   "source": [
    "# 计算每列平均值\n",
    "print(B)\n",
    "print(torch.mean(B, dim = 0, keepdim = True))"
   ]
  },
  {
   "cell_type": "code",
   "execution_count": 124,
   "id": "ec8e9d20-1a07-419a-b49a-52e6a5a8d7b2",
   "metadata": {},
   "outputs": [
    {
     "name": "stdout",
     "output_type": "stream",
     "text": [
      "tensor([[12., 34., 25., 11.],\n",
      "        [67., 32., 29., 30.],\n",
      "        [99., 55., 23., 44.]])\n",
      "tensor([[ 82.],\n",
      "        [158.],\n",
      "        [221.]])\n",
      "tensor([[178., 121.,  77.,  85.]])\n"
     ]
    }
   ],
   "source": [
    "print(B)\n",
    "# 计算每行的和\n",
    "print(torch.sum(B, dim = 1, keepdim = True))\n",
    "# 计算每列的和\n",
    "print(torch.sum(B, dim = 0, keepdim = True))"
   ]
  },
  {
   "cell_type": "code",
   "execution_count": 125,
   "id": "f87232fb-3389-43ef-ba77-887fbdd68c62",
   "metadata": {},
   "outputs": [
    {
     "name": "stdout",
     "output_type": "stream",
     "text": [
      "tensor([[12., 34., 25., 11.],\n",
      "        [67., 32., 29., 30.],\n",
      "        [99., 55., 23., 44.]])\n",
      "tensor([[ 12.,  46.,  71.,  82.],\n",
      "        [ 67.,  99., 128., 158.],\n",
      "        [ 99., 154., 177., 221.]])\n",
      "tensor([[ 12.,  34.,  25.,  11.],\n",
      "        [ 79.,  66.,  54.,  41.],\n",
      "        [178., 121.,  77.,  85.]])\n"
     ]
    }
   ],
   "source": [
    "print(B)\n",
    "# 按行计算累加和\n",
    "print(torch.cumsum(B, dim = 1))\n",
    "# 按列计算累加和\n",
    "print(torch.cumsum(B, dim = 0))"
   ]
  },
  {
   "cell_type": "code",
   "execution_count": 128,
   "id": "32c090ff-0e68-4519-b6fc-a00dd1e6ad14",
   "metadata": {},
   "outputs": [
    {
     "name": "stdout",
     "output_type": "stream",
     "text": [
      "tensor([[12., 34., 25., 11.],\n",
      "        [67., 32., 29., 30.],\n",
      "        [99., 55., 23., 44.]])\n",
      "torch.return_types.median(\n",
      "values=tensor([[12.],\n",
      "        [30.],\n",
      "        [44.]]),\n",
      "indices=tensor([[0],\n",
      "        [3],\n",
      "        [3]]))\n",
      "torch.return_types.median(\n",
      "values=tensor([[67., 34., 25., 30.]]),\n",
      "indices=tensor([[1, 0, 0, 1]]))\n"
     ]
    }
   ],
   "source": [
    "print(B)\n",
    "# 计算每行的中位数\n",
    "print(torch.median(B, dim = 1, keepdim = True))\n",
    "# 计算每列的中位数\n",
    "print(torch.median(B, dim = 0, keepdim = True))"
   ]
  },
  {
   "cell_type": "code",
   "execution_count": 132,
   "id": "549b3205-5503-473f-906f-8d511394a1a9",
   "metadata": {},
   "outputs": [
    {
     "name": "stdout",
     "output_type": "stream",
     "text": [
      "tensor([[12., 34., 25., 11.],\n",
      "        [67., 32., 29., 30.],\n",
      "        [99., 55., 23., 44.]])\n",
      "tensor([[ 112200.],\n",
      "        [1865280.],\n",
      "        [5510340.]])\n",
      "tensor([[79596., 59840., 16675., 14520.]])\n"
     ]
    }
   ],
   "source": [
    "print(B)\n",
    "# 按行计算乘积\n",
    "print(torch.prod(B, dim = 1, keepdim = True))\n",
    "# 按列计算乘积\n",
    "print(torch.prod(B, dim = 0, keepdim = True))"
   ]
  },
  {
   "cell_type": "code",
   "execution_count": 133,
   "id": "58dc0cec-ea8f-4d7d-b667-c8bbedda9009",
   "metadata": {},
   "outputs": [
    {
     "name": "stdout",
     "output_type": "stream",
     "text": [
      "tensor([[12., 34., 25., 11.],\n",
      "        [67., 32., 29., 30.],\n",
      "        [99., 55., 23., 44.]])\n",
      "tensor([[1.2000e+01, 4.0800e+02, 1.0200e+04, 1.1220e+05],\n",
      "        [6.7000e+01, 2.1440e+03, 6.2176e+04, 1.8653e+06],\n",
      "        [9.9000e+01, 5.4450e+03, 1.2524e+05, 5.5103e+06]])\n",
      "tensor([[1.2000e+01, 3.4000e+01, 2.5000e+01, 1.1000e+01],\n",
      "        [8.0400e+02, 1.0880e+03, 7.2500e+02, 3.3000e+02],\n",
      "        [7.9596e+04, 5.9840e+04, 1.6675e+04, 1.4520e+04]])\n"
     ]
    }
   ],
   "source": [
    "print(B)\n",
    "# 按行计算累乘积\n",
    "print(torch.cumprod(B, dim = 1))\n",
    "# 按列计算累乘积\n",
    "print(torch.cumprod(B, dim = 0))"
   ]
  },
  {
   "cell_type": "code",
   "execution_count": 134,
   "id": "89f2f1ad-c01c-4672-a0ea-0b463072183e",
   "metadata": {},
   "outputs": [
    {
     "data": {
      "text/plain": [
       "tensor(25.0108)"
      ]
     },
     "execution_count": 134,
     "metadata": {},
     "output_type": "execute_result"
    }
   ],
   "source": [
    "# 标准差\n",
    "torch.std(A)"
   ]
  },
  {
   "cell_type": "code",
   "execution_count": null,
   "id": "86d18ee5-2f69-461a-bdf7-7e105fb396d2",
   "metadata": {},
   "outputs": [],
   "source": []
  }
 ],
 "metadata": {
  "kernelspec": {
   "display_name": "Python 3 (ipykernel)",
   "language": "python",
   "name": "python3"
  },
  "language_info": {
   "codemirror_mode": {
    "name": "ipython",
    "version": 3
   },
   "file_extension": ".py",
   "mimetype": "text/x-python",
   "name": "python",
   "nbconvert_exporter": "python",
   "pygments_lexer": "ipython3",
   "version": "3.8.19"
  }
 },
 "nbformat": 4,
 "nbformat_minor": 5
}
